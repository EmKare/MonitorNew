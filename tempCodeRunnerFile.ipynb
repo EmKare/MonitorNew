mycursor.execute("SELECT * FROM FindMeParking_BLOCKED_USERS")
myresult = mycursor.fetchall()
for x in myresult:
  print(x)