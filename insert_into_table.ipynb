{
 "cells": [
  {
   "cell_type": "code",
   "execution_count": 3,
   "metadata": {},
   "outputs": [],
   "source": [
    "from parkingLots_newWith_list import _parkingLots\n",
    "import phonefiles as files\n",
    "import mysql.connector"
   ]
  },
  {
   "cell_type": "code",
   "execution_count": 46,
   "metadata": {},
   "outputs": [],
   "source": [
    "\n",
    "#CONNECTING TO MYSQL DATABASE : CONNECT STEP 1\n",
    "mydb = mysql.connector.connect(\n",
    "  host=\"localhost\",\n",
    "  user=\"root\",\n",
    "  password=\"1234\",\n",
    "  database=\"FindMeParking\"\n",
    ")"
   ]
  },
  {
   "cell_type": "code",
   "execution_count": 47,
   "metadata": {},
   "outputs": [],
   "source": [
    "  #USING THIS ITEM TO RUN QUERIES : CONNECT STEP 2\n",
    "mycursor = mydb.cursor()"
   ]
  },
  {
   "cell_type": "code",
   "execution_count": null,
   "metadata": {},
   "outputs": [],
   "source": [
    "#IF ANY ERRORS WHEN RUNNING QUERIES, UNCOMMENT BELOW, RUN THE LINE, THEN RUN CONNECT STEP 1, THEN CONNECT STEP 2, THEN COMMENT OUT BELOW\n",
    "\n",
    "#mydb.close()"
   ]
  },
  {
   "cell_type": "code",
   "execution_count": null,
   "metadata": {},
   "outputs": [],
   "source": [
    "#--------------------------------------------------------------------------------------------"
   ]
  },
  {
   "cell_type": "code",
   "execution_count": null,
   "metadata": {},
   "outputs": [],
   "source": [
    "has_data = False"
   ]
  },
  {
   "cell_type": "code",
   "execution_count": null,
   "metadata": {},
   "outputs": [],
   "source": [
    "#--------------------------------------------------------------------------------------------"
   ]
  },
  {
   "cell_type": "code",
   "execution_count": null,
   "metadata": {},
   "outputs": [],
   "source": [
    "#CREATING THE DATABASE\n",
    "mycursor.execute(\"CREATE DATABASE IF NOT EXISTS FindMeParking\")\n",
    "mydb.commit()"
   ]
  },
  {
   "cell_type": "code",
   "execution_count": null,
   "metadata": {},
   "outputs": [],
   "source": [
    "mycursor.execute(\"SHOW TABLES;\")\n",
    "myresult = mycursor.fetchall()\n",
    "if len(myresult) > 0:\n",
    "    for x in myresult:\n",
    "        print(x)"
   ]
  },
  {
   "cell_type": "code",
   "execution_count": null,
   "metadata": {},
   "outputs": [],
   "source": [
    "#--------------------------------------------------------------------------------------------"
   ]
  },
  {
   "cell_type": "code",
   "execution_count": null,
   "metadata": {},
   "outputs": [],
   "source": [
    "mycursor.execute(\"CREATE TABLE IF NOT EXISTS ParkingLot_locations \\\n",
    "(\\\n",
    "    lot_number INT auto_increment,\\\n",
    "    lot_title VARCHAR(100) NOT NULL,\\\n",
    "    lot_lat_coord FLOAT NOT NULL,\\\n",
    "    lot_long_coord FLOAT NOT NULL,\\\n",
    "    lot_type INT NOT NULL,\\\n",
    "    PRIMARY KEY (lot_number)\\\n",
    ");\")\n",
    "mydb.commit()"
   ]
  },
  {
   "cell_type": "code",
   "execution_count": null,
   "metadata": {},
   "outputs": [],
   "source": [
    "mycursor.execute(\"SELECT * FROM ParkingLot_locations\")\n",
    "myresult = mycursor.fetchall()\n",
    "if len(myresult) > 0:\n",
    "    has_data = True"
   ]
  },
  {
   "cell_type": "code",
   "execution_count": null,
   "metadata": {},
   "outputs": [],
   "source": [
    "#INSERTING INTO THE LOCATIONS TABLE\n",
    "if not has_data:\n",
    "    for name, item_list in _parkingLots.items():        \n",
    "        sql = \"INSERT INTO ParkingLot_locations (lot_title, lot_lat_coord, lot_long_coord, lot_type) VALUES (%s, %s, %s, %s)\"        \n",
    "        val = (name, float(item_list[0][0]), float(item_list[0][1]), int(item_list[1]),)\n",
    "        mycursor.execute(sql, val)\n",
    "        mydb.commit()\n",
    "has_data = False"
   ]
  },
  {
   "cell_type": "code",
   "execution_count": null,
   "metadata": {},
   "outputs": [],
   "source": [
    "#VIEW THE LOCATIONS TABLE DATA\n",
    "mycursor.execute(\"SELECT * FROM ParkingLot_locations\")\n",
    "myresult = mycursor.fetchall()\n",
    "for x in myresult:\n",
    "  print(x)"
   ]
  },
  {
   "cell_type": "code",
   "execution_count": null,
   "metadata": {},
   "outputs": [],
   "source": [
    "#--------------------------------------------------------------------------------------------"
   ]
  },
  {
   "cell_type": "code",
   "execution_count": null,
   "metadata": {},
   "outputs": [],
   "source": [
    "mycursor.execute(\"CREATE TABLE IF NOT EXISTS FindMeParking_USERS ( \\\n",
    "    user_number INT auto_increment,\\\n",
    "    user_username VARCHAR(20) NOT NULL,\\\n",
    "    user_password VARCHAR(100) NOT NULL,\\\n",
    "    user_gender VARCHAR(1) NOT NULL,\\\n",
    "    user_fname VARCHAR(20) NOT NULL,\\\n",
    "    user_lname VARCHAR(30) NOT NULL,\\\n",
    "    user_email VARCHAR(40) NOT NULL,\\\n",
    "    user_tele BIGINT NOT NULL,\\\n",
    "    user_id VARCHAR(9) NOT NULL,\\\n",
    "    user_cardNo BIGINT NOT NULL,\\\n",
    "    user_cvv VARCHAR(4) NOT NULL,\\\n",
    "    user_exp_month VARCHAR(2) NOT NULL,\\\n",
    "    user_exp_year VARCHAR(2) NOT NULL,\\\n",
    "    PRIMARY KEY (user_number)\\\n",
    ");\")\n",
    "mydb.commit()"
   ]
  },
  {
   "cell_type": "code",
   "execution_count": null,
   "metadata": {},
   "outputs": [],
   "source": [
    "try:\n",
    "    mycursor.execute(\"ALTER TABLE FindMeParking_USERS AUTO_INCREMENT=10101;\")\n",
    "    mydb.commit()\n",
    "except Exception:\n",
    "    print(\"ERROR -- ROLLBACK (( ALTER TABLE FindMeParking_USERS AUTO_INCREMENT=10101 ))\")\n",
    "    mydb.rollback()"
   ]
  },
  {
   "cell_type": "code",
   "execution_count": null,
   "metadata": {},
   "outputs": [],
   "source": [
    "try:\n",
    "    mycursor.execute(\"ALTER TABLE FindMeParking_USERS ADD UNIQUE (user_email,user_id);\")\n",
    "    mydb.commit()\n",
    "except Exception:\n",
    "    print(\"ERROR -- ROLLBACK (( ALTER TABLE FindMeParking_USERS ADD UNIQUE (user_email,user_id); ))\")\n",
    "    mydb.rollback()"
   ]
  },
  {
   "cell_type": "code",
   "execution_count": null,
   "metadata": {},
   "outputs": [],
   "source": [
    "mycursor.execute(\"SELECT * FROM FindMeParking_USERS\")\n",
    "myresult = mycursor.fetchall()\n",
    "if len(myresult) > 0:\n",
    "    has_data = True"
   ]
  },
  {
   "cell_type": "code",
   "execution_count": null,
   "metadata": {},
   "outputs": [],
   "source": [
    "if not has_data:        \n",
    "        sql = \"INSERT INTO FindMeParking_USERS \\\n",
    "                (user_username, user_password, user_gender, user_fname, user_lname, user_email, user_tele, user_id, user_cardNo, user_cvv, user_exp_month, user_exp_year)\\\n",
    "                VALUES (%s, %s, %s, %s, %s, %s, %s, %s, %s, %s, %s, %s);\"    \n",
    "        val = (\"demouser\",\"123456789\",\"M\",\"Demo\",\"User\",\"demo@use.yea\",987654321,\"101823456\",1234567890123456,\"412\",\"11\",\"25\")\n",
    "        try:\n",
    "                mycursor.execute(sql, val)\n",
    "                mydb.commit()\n",
    "        except Exception:\n",
    "                print(\"ERROR -- ROLLBACK (( INSERT INTO FindMeParking_USERS ))\")\n",
    "                mydb.rollback()\n"
   ]
  },
  {
   "cell_type": "code",
   "execution_count": null,
   "metadata": {},
   "outputs": [],
   "source": [
    "try: \n",
    "    mycursor.execute(\"ALTER TABLE FindMeParking_USERS ADD COLUMN user_status ENUM('Active', 'Inactive', 'Blocked') DEFAULT 'Active';\")\n",
    "    mydb.commit()\n",
    "    has_data = False\n",
    "except Exception:\n",
    "    print(\"ERROR (( ALTER TABLE FindMeParking_USERS ADD COLUMN user_status ENUM('Active', 'Inactive', 'Blocked') DEFAULT 'Active'; ))\")\n",
    "    mydb.rollback()"
   ]
  },
  {
   "cell_type": "code",
   "execution_count": null,
   "metadata": {},
   "outputs": [],
   "source": [
    "#mycursor.execute(\"ALTER TABLE FindMeParking_USERS DROP COLUMN user_balance;\")\n",
    "#mydb.commit()"
   ]
  },
  {
   "cell_type": "code",
   "execution_count": null,
   "metadata": {},
   "outputs": [],
   "source": [
    "#Update the existing rows with the default status (Active)\n",
    "try:\n",
    "    mycursor.execute(\"UPDATE FindMeParking_USERS SET user_status = if( user_status = NULL,'Active', user_status);\")\n",
    "    mydb.commit()\n",
    "except Exception:\n",
    "     print(\"ERROR (( UPDATE FindMeParking_USERS SET user_status = 'Active'; ))\")\n",
    "     mydb.rollback()"
   ]
  },
  {
   "cell_type": "code",
   "execution_count": null,
   "metadata": {},
   "outputs": [],
   "source": [
    "try:\n",
    "    mycursor.execute(\"ALTER TABLE FindMeParking_USERS ADD COLUMN user_balance FLOAT DEFAULT 1000;\")\n",
    "    mydb.commit()\n",
    "    has_data = False\n",
    "except Exception:\n",
    "    print(\"ERROR (( ALTER TABLE FindMeParking_USERS ADD COLUMN user_balance FLOAT DEFAULT 1000; ))\")\n",
    "    mydb.rollback()"
   ]
  },
  {
   "cell_type": "code",
   "execution_count": null,
   "metadata": {},
   "outputs": [],
   "source": [
    "try:\n",
    "    mycursor.execute(\"UPDATE FindMeParking_USERS SET user_balance = if( user_balance = NULL,1000, user_balance);\")\n",
    "    mydb.commit()\n",
    "except Exception:\n",
    "    print(\"ERROR (( UPDATE FindMeParking_USERS SET user_balance = if( user_balance = NULL,1000, user_balance); ))\")\n",
    "    mydb.rollback()"
   ]
  },
  {
   "cell_type": "code",
   "execution_count": 65,
   "metadata": {},
   "outputs": [
    {
     "name": "stdout",
     "output_type": "stream",
     "text": [
      "(10101, 'allaireS', '123456789', 'M', 'Allaire', 'Saunders', 'allaireS@live.yea', 987654321, '101223456', 1234567890123456, '412', '11', '25', 'Active', 40.0)\n",
      "(10102, 'giannaTh', '1234567890', 'F', 'Gianna', 'Thomasing', 'gthomasing@imhere.daw', 8761234432, '987123456', 1234567898765432, '018', '4', '26', 'Active', 120.0)\n",
      "(10103, 'kareem', '123456789q', 'M', 'Kareem', 'Saunders', 'kareemS@gmail.con', 8769091211, '101111234', 9876543210123456, '776', '7', '27', 'Active', 20.0)\n",
      "(10104, 'amanda', 'amanda123', 'F', 'Amanda', 'Thomassing', 'athomas@ditto.lal', 8663214343, '988411556', 9123456789012345, '101', '9', '31', 'Active', 620.0)\n",
      "(10105, 'jennjenn', 'jenny101', 'F', 'Jenny', 'Cyrious', 'jennjenn@yaloo.own', 8765432210, '911011999', 8765432109876543, '454', '8', '25', 'Active', 1080.0)\n",
      "(10106, 'andrew', '1122334455', 'M', 'Andrew', 'Stephenson', 'andrew@steph.son', 8765554443, '864201357', 5678901234654321, '555', '6', '26', 'Active', 800.0)\n",
      "(10107, 'demouser', '123456789', 'M', 'Demo', 'User', 'demo@use.yea', 987654321, '101823456', 1234567890123456, '412', '11', '25', 'Active', 90.0)\n",
      "(10108, 'demouser2', '123456789', 'F', 'Demo2', 'User2', 'demo2@use.yea', 9876693210, '101823888', 1234567890123456, '402', '12', '25', 'Blocked', 10.0)\n"
     ]
    }
   ],
   "source": [
    "#VIEW THE LOCATIONS TABLE DATA\n",
    "mycursor.execute(\"SELECT * FROM FindMeParking_USERS\")\n",
    "myresult = mycursor.fetchall()\n",
    "for x in myresult:\n",
    "  print(x)"
   ]
  },
  {
   "cell_type": "code",
   "execution_count": null,
   "metadata": {},
   "outputs": [],
   "source": [
    "#mycursor.execute(\"UPDATE FindMeParking_USERS SET user_balance = 10 WHERE user_number = 10108;\")\n",
    "#mydb.commit()"
   ]
  },
  {
   "cell_type": "code",
   "execution_count": null,
   "metadata": {},
   "outputs": [],
   "source": [
    "#--------------------------------------------------------------------------------------------"
   ]
  },
  {
   "cell_type": "code",
   "execution_count": null,
   "metadata": {},
   "outputs": [],
   "source": [
    "mycursor.execute(\"CREATE TABLE IF NOT EXISTS FindMeParking_USER_PreviousBookings ( \\\n",
    "    user_PreviousBookings_no INT auto_increment, \\\n",
    "    user_PreviousBookings_usernumber INT NOT NULL,\\\n",
    "    user_PreviousBookings_String VARCHAR(300) NOT NULL,\\\n",
    "    PRIMARY KEY (user_PreviousBookings_no)\\\n",
    ");\")\n",
    "mydb.commit()"
   ]
  },
  {
   "cell_type": "code",
   "execution_count": null,
   "metadata": {},
   "outputs": [],
   "source": [
    "try:\n",
    "    mycursor.execute(\"ALTER TABLE FindMeParking_USER_PreviousBookings AUTO_INCREMENT=1000000;\")\n",
    "    mydb.commit()\n",
    "except Exception:\n",
    "        mydb.rollback()"
   ]
  },
  {
   "cell_type": "code",
   "execution_count": null,
   "metadata": {},
   "outputs": [],
   "source": [
    "mycursor.execute(\"SELECT * FROM FindMeParking_USER_PreviousBookings\")\n",
    "myresult = mycursor.fetchall()\n",
    "if len(myresult) > 0:\n",
    "    has_data = True"
   ]
  },
  {
   "cell_type": "code",
   "execution_count": null,
   "metadata": {},
   "outputs": [],
   "source": [
    "if not has_data:\n",
    "    previousbookings_List = []\n",
    "    \n",
    "    with open(f\"{files.user_profile}previous_bookings.txt\",\"r\") as f: \n",
    "        for line in f:\n",
    "            if len(line) > 0:\n",
    "                previousbookings_List.append(line)\n",
    "    \n",
    "    for line in previousbookings_List:\n",
    "        \n",
    "        sql = \"INSERT INTO FindMeParking_USER_PreviousBookings (user_PreviousBookings_usernumber,user_PreviousBookings_String) VALUES (%s, %s)\"\n",
    "        \n",
    "        val = (10101, line.strip())\n",
    "        mycursor.execute(sql, val)\n",
    "        mydb.commit()\n",
    "has_data = False"
   ]
  },
  {
   "cell_type": "code",
   "execution_count": null,
   "metadata": {},
   "outputs": [],
   "source": [
    "#VIEW THE USERS TABLE DATA\n",
    "mycursor.execute(\"SELECT * FROM FindMeParking_USER_PreviousBookings;\")\n",
    "myresult = mycursor.fetchall()\n",
    "for x in myresult:\n",
    "  print(x)"
   ]
  },
  {
   "cell_type": "code",
   "execution_count": null,
   "metadata": {},
   "outputs": [],
   "source": [
    "#--------------------------------------------------------------------------------------------"
   ]
  },
  {
   "cell_type": "code",
   "execution_count": null,
   "metadata": {},
   "outputs": [],
   "source": [
    "#mycursor.execute(\"DROP TABLE FindMeParking_VALID_USERS\")"
   ]
  },
  {
   "cell_type": "code",
   "execution_count": null,
   "metadata": {},
   "outputs": [],
   "source": [
    "#--------------------------------------------------------------------------------------------"
   ]
  },
  {
   "cell_type": "code",
   "execution_count": null,
   "metadata": {},
   "outputs": [],
   "source": [
    "mycursor.execute(\"CREATE TABLE IF NOT EXISTS FindMeParking_VALID_USERS ( \\\n",
    "    valid_user_no INT AUTO_INCREMENT, \\\n",
    "    valid_user_number INT NOT NULL,\\\n",
    "    valid_user_email VARCHAR(40) NOT NULL,\\\n",
    "    valid_user_id VARCHAR(9) NOT NULL,\\\n",
    "    PRIMARY KEY (valid_user_no),\\\n",
    "    FOREIGN KEY (valid_user_number) REFERENCES FindMeParking_USERS(user_number)\\\n",
    ");\")\n",
    "mydb.commit()"
   ]
  },
  {
   "cell_type": "code",
   "execution_count": null,
   "metadata": {},
   "outputs": [],
   "source": [
    "try:\n",
    "    mycursor.execute(\"ALTER TABLE FindMeParking_VALID_USERS AUTO_INCREMENT=100;\")\n",
    "    mydb.commit()\n",
    "except Exception:\n",
    "        mydb.rollback()"
   ]
  },
  {
   "cell_type": "code",
   "execution_count": null,
   "metadata": {},
   "outputs": [],
   "source": [
    "#CHECK IF THE 'FindMeParking_VALID_USERS' TABLE ALREADY HAS DATA\n",
    "mycursor.execute(\"SELECT * FROM FindMeParking_VALID_USERS\")\n",
    "myresult = mycursor.fetchall()\n",
    "if len(myresult) > 0:\n",
    "    has_data = True"
   ]
  },
  {
   "cell_type": "code",
   "execution_count": null,
   "metadata": {},
   "outputs": [],
   "source": [
    "if not has_data:    \n",
    "    mycursor.execute(\"SELECT * FROM FindMeParking_USERS\")\n",
    "    myresult = mycursor.fetchall()\n",
    "    \n",
    "    user = 0\n",
    "    for result in myresult:        \n",
    "        sql = \"INSERT INTO FindMeParking_VALID_USERS (valid_user_number, valid_user_email, valid_user_id) VALUES (%s,%s,%s)\"        \n",
    "        val = (myresult[user][0], myresult[user][6], myresult[user][8])\n",
    "        mycursor.execute(sql, val)\n",
    "        mydb.commit()\n",
    "        user+=1\n",
    "has_data = False"
   ]
  },
  {
   "cell_type": "code",
   "execution_count": null,
   "metadata": {},
   "outputs": [],
   "source": [
    "#VIEW THE 'FindMeParking_VALID_USERS' TABLE DATA\n",
    "mycursor.execute(\"SELECT * FROM FindMeParking_VALID_USERS\")\n",
    "myresult = mycursor.fetchall()\n",
    "for x in myresult:\n",
    "  print(x)"
   ]
  },
  {
   "cell_type": "code",
   "execution_count": null,
   "metadata": {},
   "outputs": [],
   "source": [
    "#--------------------------------------------------------------------------------------------"
   ]
  },
  {
   "cell_type": "code",
   "execution_count": null,
   "metadata": {},
   "outputs": [],
   "source": [
    "mycursor.execute(\"CREATE TABLE IF NOT EXISTS FindMeParking_BLOCKED_USERS ( \\\n",
    "    blocked_user_no INT AUTO_INCREMENT, \\\n",
    "    blocked_user_number INT NOT NULL,\\\n",
    "    blocked_user_email VARCHAR(40) NOT NULL,\\\n",
    "    blocked_user_id VARCHAR(9) NOT NULL,\\\n",
    "    PRIMARY KEY (blocked_user_no),\\\n",
    "    FOREIGN KEY (blocked_user_number) REFERENCES FindMeParking_USERS(user_number)\\\n",
    ");\")\n",
    "mydb.commit()"
   ]
  },
  {
   "cell_type": "code",
   "execution_count": null,
   "metadata": {},
   "outputs": [],
   "source": [
    "try:\n",
    "    mycursor.execute(\"ALTER TABLE FindMeParking_BLOCKED_USERS AUTO_INCREMENT=100;\")\n",
    "    mydb.commit()\n",
    "except Exception:\n",
    "        mydb.rollback()"
   ]
  },
  {
   "cell_type": "code",
   "execution_count": null,
   "metadata": {},
   "outputs": [],
   "source": [
    "#VIEW THE 'FindMeParking_BLOCKED_USERS' TABLE DATA\n",
    "mycursor.execute(\"SELECT * FROM FindMeParking_BLOCKED_USERS\")\n",
    "myresult = mycursor.fetchall()\n",
    "for x in myresult:\n",
    "  print(x)"
   ]
  }
 ],
 "metadata": {
  "kernelspec": {
   "display_name": "Python 3",
   "language": "python",
   "name": "python3"
  },
  "language_info": {
   "codemirror_mode": {
    "name": "ipython",
    "version": 3
   },
   "file_extension": ".py",
   "mimetype": "text/x-python",
   "name": "python",
   "nbconvert_exporter": "python",
   "pygments_lexer": "ipython3",
   "version": "3.11.2"
  }
 },
 "nbformat": 4,
 "nbformat_minor": 2
}
