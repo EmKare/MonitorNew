{
 "cells": [
  {
   "cell_type": "code",
   "execution_count": null,
   "metadata": {},
   "outputs": [],
   "source": [
    "from parkingLots_newWith_list import _parkingLots\n",
    "import phonefiles as files\n",
    "import mysql.connector"
   ]
  },
  {
   "cell_type": "code",
   "execution_count": null,
   "metadata": {},
   "outputs": [],
   "source": [
    "\n",
    "#CONNECTING TO MYSQL DATABASE : CONNECT STEP 1\n",
    "mydb = mysql.connector.connect(\n",
    "  host=\"localhost\",\n",
    "  user=\"root\",\n",
    "  password=\"1234\",\n",
    "  database=\"FindMeParking\"\n",
    ")"
   ]
  },
  {
   "cell_type": "code",
   "execution_count": null,
   "metadata": {},
   "outputs": [],
   "source": [
    "  #USING THIS ITEM TO RUN QUERIES : CONNECT STEP 2\n",
    "mycursor = mydb.cursor()"
   ]
  },
  {
   "cell_type": "code",
   "execution_count": null,
   "metadata": {},
   "outputs": [],
   "source": [
    "#IF ANY ERRORS WHEN RUNNING QUERIES, UNCOMMENT BELOW, RUN THE LINE, THEN RUN CONNECT STEP 1, THEN CONNECT STEP 2, THEN COMMENT OUT BELOW\n",
    "\n",
    "#mydb.close()"
   ]
  },
  {
   "cell_type": "code",
   "execution_count": null,
   "metadata": {},
   "outputs": [],
   "source": [
    "has_data = False"
   ]
  },
  {
   "cell_type": "code",
   "execution_count": null,
   "metadata": {},
   "outputs": [],
   "source": [
    "#CREATING THE DATABASE\n",
    "mycursor.execute(\"CREATE DATABASE IF NOT EXISTS FindMeParking\")\n",
    "mydb.commit()"
   ]
  },
  {
   "cell_type": "code",
   "execution_count": null,
   "metadata": {},
   "outputs": [],
   "source": [
    "mycursor.execute(\"SHOW TABLES;\")\n",
    "myresult = mycursor.fetchall()\n",
    "if len(myresult) > 0:\n",
    "    for x in myresult:\n",
    "        print(x)"
   ]
  },
  {
   "cell_type": "code",
   "execution_count": null,
   "metadata": {},
   "outputs": [],
   "source": [
    "mycursor.execute(\"CREATE TABLE IF NOT EXISTS ParkingLot_locations \\\n",
    "(\\\n",
    "    lot_number INT auto_increment,\\\n",
    "    lot_title VARCHAR(100) NOT NULL,\\\n",
    "    lot_lat_coord FLOAT NOT NULL,\\\n",
    "    lot_long_coord FLOAT NOT NULL,\\\n",
    "    lot_type INT NOT NULL,\\\n",
    "    PRIMARY KEY (lot_number)\\\n",
    ");\")\n",
    "mydb.commit()"
   ]
  },
  {
   "cell_type": "code",
   "execution_count": null,
   "metadata": {},
   "outputs": [],
   "source": [
    "mycursor.execute(\"SELECT * FROM ParkingLot_locations\")\n",
    "myresult = mycursor.fetchall()\n",
    "if len(myresult) > 0:\n",
    "    has_data = True"
   ]
  },
  {
   "cell_type": "code",
   "execution_count": null,
   "metadata": {},
   "outputs": [],
   "source": [
    "#INSERTING INTO THE LOCATIONS TABLE\n",
    "if not has_data:\n",
    "    for name, item_list in _parkingLots.items():        \n",
    "        sql = \"INSERT INTO ParkingLot_locations (lot_title, lot_lat_coord, lot_long_coord, lot_type) VALUES (%s, %s, %s, %s)\"        \n",
    "        val = (name, float(item_list[0][0]), float(item_list[0][1]), int(item_list[1]),)\n",
    "        mycursor.execute(sql, val)\n",
    "        mydb.commit()\n",
    "has_data = False"
   ]
  },
  {
   "cell_type": "code",
   "execution_count": null,
   "metadata": {},
   "outputs": [],
   "source": [
    "#VIEW THE LOCATIONS TABLE DATA\n",
    "mycursor.execute(\"SELECT * FROM ParkingLot_locations\")\n",
    "myresult = mycursor.fetchall()\n",
    "for x in myresult:\n",
    "  print(x)"
   ]
  },
  {
   "cell_type": "code",
   "execution_count": null,
   "metadata": {},
   "outputs": [],
   "source": [
    "mycursor.execute(\"CREATE TABLE IF NOT EXISTS FindMeParking_USERS ( \\\n",
    "    user_number INT auto_increment,\\\n",
    "    user_username VARCHAR(20) NOT NULL,\\\n",
    "    user_password VARCHAR(100) NOT NULL,\\\n",
    "    user_gender VARCHAR(1) NOT NULL,\\\n",
    "    user_fname VARCHAR(20) NOT NULL,\\\n",
    "    user_lname VARCHAR(30) NOT NULL,\\\n",
    "    user_email VARCHAR(40) NOT NULL,\\\n",
    "    user_tele BIGINT NOT NULL,\\\n",
    "    user_id VARCHAR(9) NOT NULL,\\\n",
    "    user_cardNo BIGINT NOT NULL,\\\n",
    "    user_cvv VARCHAR(4) NOT NULL,\\\n",
    "    user_exp_month VARCHAR(2) NOT NULL,\\\n",
    "    user_exp_year VARCHAR(2) NOT NULL,\\\n",
    "    PRIMARY KEY (user_number)\\\n",
    ");\")\n",
    "mydb.commit()"
   ]
  },
  {
   "cell_type": "code",
   "execution_count": null,
   "metadata": {},
   "outputs": [],
   "source": [
    "try:\n",
    "    mycursor.execute(\"ALTER TABLE FindMeParking_USERS AUTO_INCREMENT=10101;\")\n",
    "    mydb.commit()\n",
    "except Exception:\n",
    "        mydb.rollback()"
   ]
  },
  {
   "cell_type": "code",
   "execution_count": null,
   "metadata": {},
   "outputs": [],
   "source": [
    "try:\n",
    "    mycursor.execute(\"ALTER TABLE FindMeParking_USERS ADD UNIQUE (user_email,user_id);\")#(user_email,user_id);\")\n",
    "    mydb.commit()\n",
    "except Exception:\n",
    "        mydb.rollback()"
   ]
  },
  {
   "cell_type": "code",
   "execution_count": null,
   "metadata": {},
   "outputs": [],
   "source": [
    "if not has_data:        \n",
    "        sql = \"INSERT INTO FindMeParking_USERS \\\n",
    "                (user_username, user_password, user_gender, user_fname, user_lname, user_email, user_tele, user_id, user_cardNo, user_cvv, user_exp_month, user_exp_year)\\\n",
    "                VALUES (%s, %s, %s, %s, %s, %s, %s, %s, %s, %s, %s, %s);\"    \n",
    "        val = (\"demouser\",\"123456789\",\"M\",\"Demo\",\"User\",\"demo@use.yea\",987654321,\"101223456\",1234567890123456,\"412\",\"11\",\"25\")\n",
    "        try:\n",
    "                mycursor.execute(sql, val)\n",
    "                mydb.commit()\n",
    "        except Exception:\n",
    "                mydb.rollback()\n",
    "has_data = False"
   ]
  },
  {
   "cell_type": "code",
   "execution_count": null,
   "metadata": {},
   "outputs": [],
   "source": [
    "mycursor.execute(\"CREATE TABLE IF NOT EXISTS FindMeParking_USER_PreviousBookings ( \\\n",
    "    user_PreviousBookings_no INT auto_increment, \\\n",
    "    user_PreviousBookings_usernumber INT NOT NULL,\\\n",
    "    user_PreviousBookings_String VARCHAR(300) NOT NULL,\\\n",
    "    PRIMARY KEY (user_PreviousBookings_no)\\\n",
    ");\")\n",
    "mydb.commit()"
   ]
  },
  {
   "cell_type": "code",
   "execution_count": null,
   "metadata": {},
   "outputs": [],
   "source": [
    "try:\n",
    "    mycursor.execute(\"ALTER TABLE FindMeParking_USER_PreviousBookings AUTO_INCREMENT=1000000;\")\n",
    "    mydb.commit()\n",
    "except Exception:\n",
    "        mydb.rollback()"
   ]
  },
  {
   "cell_type": "code",
   "execution_count": null,
   "metadata": {},
   "outputs": [],
   "source": [
    "mycursor.execute(\"SELECT * FROM FindMeParking_USER_PreviousBookings\")\n",
    "myresult = mycursor.fetchall()\n",
    "if len(myresult) > 0:\n",
    "    has_data = True"
   ]
  },
  {
   "cell_type": "code",
   "execution_count": null,
   "metadata": {},
   "outputs": [],
   "source": [
    "if not has_data:\n",
    "    previousbookings_List = []\n",
    "    \n",
    "    with open(f\"{files.user_profile}previous_bookings.txt\",\"r\") as f: \n",
    "        for line in f:\n",
    "            if len(line) > 0:\n",
    "                previousbookings_List.append(line)\n",
    "    \n",
    "    for line in previousbookings_List:\n",
    "        \n",
    "        sql = \"INSERT INTO FindMeParking_USER_PreviousBookings (user_PreviousBookings_usernumber,user_PreviousBookings_String) VALUES (%s, %s)\"\n",
    "        \n",
    "        val = (10101, line.strip())\n",
    "        mycursor.execute(sql, val)\n",
    "        mydb.commit()\n",
    "has_data = False"
   ]
  },
  {
   "cell_type": "code",
   "execution_count": null,
   "metadata": {},
   "outputs": [],
   "source": [
    "#VIEW THE USERS TABLE DATA\n",
    "mycursor.execute(\"SELECT * FROM FindMeParking_USER_PreviousBookings;\")\n",
    "myresult = mycursor.fetchall()\n",
    "for x in myresult:\n",
    "  print(x)"
   ]
  },
  {
   "cell_type": "code",
   "execution_count": null,
   "metadata": {},
   "outputs": [],
   "source": [
    "user = (10101,)\n",
    "mycursor.execute(\"SELECT * FROM FindMeParking_USERS WHERE user_number = %s;\",user)\n",
    "myresult = mycursor.fetchall()\n",
    "for x in myresult:\n",
    "  print(x)"
   ]
  }
 ],
 "metadata": {
  "kernelspec": {
   "display_name": "Python 3",
   "language": "python",
   "name": "python3"
  },
  "language_info": {
   "codemirror_mode": {
    "name": "ipython",
    "version": 3
   },
   "file_extension": ".py",
   "mimetype": "text/x-python",
   "name": "python",
   "nbconvert_exporter": "python",
   "pygments_lexer": "ipython3",
   "version": "3.11.2"
  }
 },
 "nbformat": 4,
 "nbformat_minor": 2
}
