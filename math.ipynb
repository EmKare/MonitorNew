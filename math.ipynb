{
 "cells": [
  {
   "cell_type": "code",
   "execution_count": 1,
   "metadata": {},
   "outputs": [],
   "source": [
    "import numpy as np"
   ]
  },
  {
   "cell_type": "code",
   "execution_count": 25,
   "metadata": {},
   "outputs": [],
   "source": [
    "x = np.array([1, 2, 3, 4, 5, 6])\n",
    "y = np.array([86, 93, 100, 115, 120, 136])\n",
    "#x = np.array([126, 128, 128, 130, 130, 132])\n",
    "#y = np.array([78, 80, 82, 82, 84, 86])"
   ]
  },
  {
   "cell_type": "code",
   "execution_count": 27,
   "metadata": {},
   "outputs": [
    {
     "data": {
      "text/plain": [
       "(3.5, 108.33333333333333)"
      ]
     },
     "execution_count": 27,
     "metadata": {},
     "output_type": "execute_result"
    }
   ],
   "source": [
    "mean_x = np.mean(x)\n",
    "mean_y = np.mean(y)\n",
    "std_x = np.std(x, ddof=1)\n",
    "std_y = np.std(y, ddof=1)\n",
    "mean_x, mean_y#, std_x, std_y"
   ]
  },
  {
   "cell_type": "code",
   "execution_count": 28,
   "metadata": {},
   "outputs": [
    {
     "data": {
      "text/plain": [
       "(array([-2.5, -1.5, -0.5,  0.5,  1.5,  2.5]),\n",
       " array([-22.33333333, -15.33333333,  -8.33333333,   6.66666667,\n",
       "         11.66666667,  27.66666667]))"
      ]
     },
     "execution_count": 28,
     "metadata": {},
     "output_type": "execute_result"
    }
   ],
   "source": [
    "_x = (x - mean_x) \n",
    "_y = (y - mean_y) \n",
    "_x, _y"
   ]
  },
  {
   "cell_type": "code",
   "execution_count": 29,
   "metadata": {},
   "outputs": [
    {
     "data": {
      "text/plain": [
       "array([[ -2.5       , -22.33333333],\n",
       "       [ -1.5       , -15.33333333],\n",
       "       [ -0.5       ,  -8.33333333],\n",
       "       [  0.5       ,   6.66666667],\n",
       "       [  1.5       ,  11.66666667],\n",
       "       [  2.5       ,  27.66666667]])"
      ]
     },
     "execution_count": 29,
     "metadata": {},
     "output_type": "execute_result"
    }
   ],
   "source": [
    "Z = np.vstack((_x, _y)).T\n",
    "Z"
   ]
  },
  {
   "cell_type": "code",
   "execution_count": 30,
   "metadata": {},
   "outputs": [
    {
     "data": {
      "text/plain": [
       "array([[  3.5       ,  34.6       ],\n",
       "       [ 34.6       , 349.86666667]])"
      ]
     },
     "execution_count": 30,
     "metadata": {},
     "output_type": "execute_result"
    }
   ],
   "source": [
    "cov_matrix = np.cov(Z, rowvar=False)\n",
    "cov_matrix"
   ]
  },
  {
   "cell_type": "code",
   "execution_count": 31,
   "metadata": {},
   "outputs": [
    {
     "data": {
      "text/plain": [
       "(array([7.74813792e-02, 3.53289185e+02]),\n",
       " array([[-0.99514335, -0.09843632],\n",
       "        [ 0.09843632, -0.99514335]]))"
      ]
     },
     "execution_count": 31,
     "metadata": {},
     "output_type": "execute_result"
    }
   ],
   "source": [
    "eigenvalues, eigenvectors = np.linalg.eig(cov_matrix)\n",
    "eigenvalues, eigenvectors"
   ]
  },
  {
   "cell_type": "code",
   "execution_count": 24,
   "metadata": {},
   "outputs": [
    {
     "data": {
      "text/plain": [
       "array([[ 0.06800833,  4.99953747],\n",
       "       [-0.37003933,  2.20523715],\n",
       "       [ 0.80808699,  0.58906316],\n",
       "       [-0.80808699, -0.58906316],\n",
       "       [ 0.37003933, -2.20523715],\n",
       "       [-0.06800833, -4.99953747]])"
      ]
     },
     "execution_count": 24,
     "metadata": {},
     "output_type": "execute_result"
    }
   ],
   "source": [
    "# Step 4: Compute principal components\n",
    "principal_components = Z @ eigenvectors\n",
    "principal_components\n",
    "#mean_x, mean_y, std_x, std_y, cov_matrix, eigenvalues, eigenvectors, principal_components"
   ]
  }
 ],
 "metadata": {
  "kernelspec": {
   "display_name": "Python 3",
   "language": "python",
   "name": "python3"
  },
  "language_info": {
   "codemirror_mode": {
    "name": "ipython",
    "version": 3
   },
   "file_extension": ".py",
   "mimetype": "text/x-python",
   "name": "python",
   "nbconvert_exporter": "python",
   "pygments_lexer": "ipython3",
   "version": "3.11.2"
  }
 },
 "nbformat": 4,
 "nbformat_minor": 2
}
