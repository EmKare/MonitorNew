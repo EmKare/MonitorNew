{
 "cells": [
  {
   "cell_type": "code",
   "execution_count": 1,
   "metadata": {},
   "outputs": [],
   "source": [
    "from geopy.geocoders import Nominatim\n",
    "from geopy import distance\n",
    "import openrouteservice as ors\n",
    "import folium as fl"
   ]
  },
  {
   "cell_type": "code",
   "execution_count": 2,
   "metadata": {},
   "outputs": [],
   "source": [
    "client = ors.Client(key='5b3ce3597851110001cf62480f6929fa14f1415b865522ca5d94fb50')"
   ]
  },
  {
   "cell_type": "code",
   "execution_count": 3,
   "metadata": {},
   "outputs": [],
   "source": [
    "m = fl.Map(location=list(reversed([-76.7665624, 17.9394675])),  zoom_start=16) #tiles=\"cartodbpositron\","
   ]
  },
  {
   "cell_type": "code",
   "execution_count": 4,
   "metadata": {},
   "outputs": [],
   "source": [
    "#coords = [[-76.7968643, 18.0118757], [-76.7812398, 18.0072864]]\n",
    "coords = [[-76.7665624, 17.9394675], [-76.7780145, 17.9386082]]\n",
    "route = client.directions(coordinates=coords,\n",
    "                          profile='driving-car',\n",
    "                          format='geojson',)"
   ]
  },
  {
   "cell_type": "code",
   "execution_count": 7,
   "metadata": {},
   "outputs": [
    {
     "name": "stdout",
     "output_type": "stream",
     "text": [
      "47\n"
     ]
    }
   ],
   "source": [
    "A_list = [tuple(reversed(coord)) for coord in route['features'][0]['geometry']['coordinates']]\n",
    "A_list.insert(0, tuple(reversed(coords[0])))\n",
    "A_list.insert(len(A_list), tuple(reversed(coords[1])))\n",
    "fl.PolyLine(locations=A_list, color=\"blue\").add_to(m)\n",
    "print(len(A_list))"
   ]
  },
  {
   "cell_type": "code",
   "execution_count": 8,
   "metadata": {},
   "outputs": [
    {
     "data": {
      "text/html": [
       "<div style=\"width:100%;\"><div style=\"position:relative;width:100%;height:0;padding-bottom:60%;\"><span style=\"color:#565656\">Make this Notebook Trusted to load map: File -> Trust Notebook</span><iframe srcdoc=\"&lt;!DOCTYPE html&gt;\n",
       "&lt;html&gt;\n",
       "&lt;head&gt;\n",
       "    \n",
       "    &lt;meta http-equiv=&quot;content-type&quot; content=&quot;text/html; charset=UTF-8&quot; /&gt;\n",
       "    \n",
       "        &lt;script&gt;\n",
       "            L_NO_TOUCH = false;\n",
       "            L_DISABLE_3D = false;\n",
       "        &lt;/script&gt;\n",
       "    \n",
       "    &lt;style&gt;html, body {width: 100%;height: 100%;margin: 0;padding: 0;}&lt;/style&gt;\n",
       "    &lt;style&gt;#map {position:absolute;top:0;bottom:0;right:0;left:0;}&lt;/style&gt;\n",
       "    &lt;script src=&quot;https://cdn.jsdelivr.net/npm/leaflet@1.9.3/dist/leaflet.js&quot;&gt;&lt;/script&gt;\n",
       "    &lt;script src=&quot;https://code.jquery.com/jquery-3.7.1.min.js&quot;&gt;&lt;/script&gt;\n",
       "    &lt;script src=&quot;https://cdn.jsdelivr.net/npm/bootstrap@5.2.2/dist/js/bootstrap.bundle.min.js&quot;&gt;&lt;/script&gt;\n",
       "    &lt;script src=&quot;https://cdnjs.cloudflare.com/ajax/libs/Leaflet.awesome-markers/2.0.2/leaflet.awesome-markers.js&quot;&gt;&lt;/script&gt;\n",
       "    &lt;link rel=&quot;stylesheet&quot; href=&quot;https://cdn.jsdelivr.net/npm/leaflet@1.9.3/dist/leaflet.css&quot;/&gt;\n",
       "    &lt;link rel=&quot;stylesheet&quot; href=&quot;https://cdn.jsdelivr.net/npm/bootstrap@5.2.2/dist/css/bootstrap.min.css&quot;/&gt;\n",
       "    &lt;link rel=&quot;stylesheet&quot; href=&quot;https://netdna.bootstrapcdn.com/bootstrap/3.0.0/css/bootstrap-glyphicons.css&quot;/&gt;\n",
       "    &lt;link rel=&quot;stylesheet&quot; href=&quot;https://cdn.jsdelivr.net/npm/@fortawesome/fontawesome-free@6.2.0/css/all.min.css&quot;/&gt;\n",
       "    &lt;link rel=&quot;stylesheet&quot; href=&quot;https://cdnjs.cloudflare.com/ajax/libs/Leaflet.awesome-markers/2.0.2/leaflet.awesome-markers.css&quot;/&gt;\n",
       "    &lt;link rel=&quot;stylesheet&quot; href=&quot;https://cdn.jsdelivr.net/gh/python-visualization/folium/folium/templates/leaflet.awesome.rotate.min.css&quot;/&gt;\n",
       "    \n",
       "            &lt;meta name=&quot;viewport&quot; content=&quot;width=device-width,\n",
       "                initial-scale=1.0, maximum-scale=1.0, user-scalable=no&quot; /&gt;\n",
       "            &lt;style&gt;\n",
       "                #map_aa2006a6422663d757296440e496b2e6 {\n",
       "                    position: relative;\n",
       "                    width: 100.0%;\n",
       "                    height: 100.0%;\n",
       "                    left: 0.0%;\n",
       "                    top: 0.0%;\n",
       "                }\n",
       "                .leaflet-container { font-size: 1rem; }\n",
       "            &lt;/style&gt;\n",
       "        \n",
       "&lt;/head&gt;\n",
       "&lt;body&gt;\n",
       "    \n",
       "    \n",
       "            &lt;div class=&quot;folium-map&quot; id=&quot;map_aa2006a6422663d757296440e496b2e6&quot; &gt;&lt;/div&gt;\n",
       "        \n",
       "&lt;/body&gt;\n",
       "&lt;script&gt;\n",
       "    \n",
       "    \n",
       "            var map_aa2006a6422663d757296440e496b2e6 = L.map(\n",
       "                &quot;map_aa2006a6422663d757296440e496b2e6&quot;,\n",
       "                {\n",
       "                    center: [17.9394675, -76.7665624],\n",
       "                    crs: L.CRS.EPSG3857,\n",
       "                    zoom: 16,\n",
       "                    zoomControl: true,\n",
       "                    preferCanvas: false,\n",
       "                }\n",
       "            );\n",
       "\n",
       "            \n",
       "\n",
       "        \n",
       "    \n",
       "            var tile_layer_86ea10aef64f3c274995fd1ff168c084 = L.tileLayer(\n",
       "                &quot;https://tile.openstreetmap.org/{z}/{x}/{y}.png&quot;,\n",
       "                {&quot;attribution&quot;: &quot;\\u0026copy; \\u003ca href=\\&quot;https://www.openstreetmap.org/copyright\\&quot;\\u003eOpenStreetMap\\u003c/a\\u003e contributors&quot;, &quot;detectRetina&quot;: false, &quot;maxNativeZoom&quot;: 19, &quot;maxZoom&quot;: 19, &quot;minZoom&quot;: 0, &quot;noWrap&quot;: false, &quot;opacity&quot;: 1, &quot;subdomains&quot;: &quot;abc&quot;, &quot;tms&quot;: false}\n",
       "            );\n",
       "        \n",
       "    \n",
       "            tile_layer_86ea10aef64f3c274995fd1ff168c084.addTo(map_aa2006a6422663d757296440e496b2e6);\n",
       "        \n",
       "    \n",
       "            var poly_line_21c2844931f32f473e2824d43a752149 = L.polyline(\n",
       "                [[17.9394675, -76.7665624], [17.939461, -76.766556], [17.939203, -76.766845], [17.939003, -76.766976], [17.938929, -76.767002], [17.938854, -76.766985], [17.93875, -76.766998], [17.938656, -76.767046], [17.938583, -76.767124], [17.938537, -76.767224], [17.938525, -76.767333], [17.938548, -76.76744], [17.938604, -76.767534], [17.93865, -76.767577], [17.938731, -76.767625], [17.938807, -76.767644], [17.938857, -76.767684], [17.938904, -76.767926], [17.939105, -76.774171], [17.939122, -76.77529], [17.939129, -76.775491], [17.939121, -76.775861], [17.939087, -76.775982], [17.938998, -76.776114], [17.938908, -76.77623], [17.93882, -76.77631], [17.938576, -76.776463], [17.938172, -76.776631], [17.938051, -76.776682], [17.937678, -76.776832], [17.937656, -76.776839], [17.937575, -76.776869], [17.937473, -76.776978], [17.937434, -76.777079], [17.937568, -76.777456], [17.937638, -76.777433], [17.93784, -76.777958], [17.937893, -76.777986], [17.937933, -76.777984], [17.938246, -76.777841], [17.938316, -76.777808], [17.938741, -76.777612], [17.938912, -76.778083], [17.938769, -76.778142], [17.938666, -76.778184], [17.938603, -76.778017], [17.9386082, -76.7780145]],\n",
       "                {&quot;bubblingMouseEvents&quot;: true, &quot;color&quot;: &quot;blue&quot;, &quot;dashArray&quot;: null, &quot;dashOffset&quot;: null, &quot;fill&quot;: false, &quot;fillColor&quot;: &quot;blue&quot;, &quot;fillOpacity&quot;: 0.2, &quot;fillRule&quot;: &quot;evenodd&quot;, &quot;lineCap&quot;: &quot;round&quot;, &quot;lineJoin&quot;: &quot;round&quot;, &quot;noClip&quot;: false, &quot;opacity&quot;: 1.0, &quot;smoothFactor&quot;: 1.0, &quot;stroke&quot;: true, &quot;weight&quot;: 3}\n",
       "            ).addTo(map_aa2006a6422663d757296440e496b2e6);\n",
       "        \n",
       "    \n",
       "            tile_layer_86ea10aef64f3c274995fd1ff168c084.addTo(map_aa2006a6422663d757296440e496b2e6);\n",
       "        \n",
       "    \n",
       "            var poly_line_d6f99a0d275b0bd43a1333b436075382 = L.polyline(\n",
       "                [[17.9394675, -76.7665624], [17.939461, -76.766556], [17.939203, -76.766845], [17.939003, -76.766976], [17.938929, -76.767002], [17.938854, -76.766985], [17.93875, -76.766998], [17.938656, -76.767046], [17.938583, -76.767124], [17.938537, -76.767224], [17.938525, -76.767333], [17.938548, -76.76744], [17.938604, -76.767534], [17.93865, -76.767577], [17.938731, -76.767625], [17.938807, -76.767644], [17.938857, -76.767684], [17.938904, -76.767926], [17.939105, -76.774171], [17.939122, -76.77529], [17.939129, -76.775491], [17.939121, -76.775861], [17.939087, -76.775982], [17.938998, -76.776114], [17.938908, -76.77623], [17.93882, -76.77631], [17.938576, -76.776463], [17.938172, -76.776631], [17.938051, -76.776682], [17.937678, -76.776832], [17.937656, -76.776839], [17.937575, -76.776869], [17.937473, -76.776978], [17.937434, -76.777079], [17.937568, -76.777456], [17.937638, -76.777433], [17.93784, -76.777958], [17.937893, -76.777986], [17.937933, -76.777984], [17.938246, -76.777841], [17.938316, -76.777808], [17.938741, -76.777612], [17.938912, -76.778083], [17.938769, -76.778142], [17.938666, -76.778184], [17.938603, -76.778017], [17.9386082, -76.7780145]],\n",
       "                {&quot;bubblingMouseEvents&quot;: true, &quot;color&quot;: &quot;blue&quot;, &quot;dashArray&quot;: null, &quot;dashOffset&quot;: null, &quot;fill&quot;: false, &quot;fillColor&quot;: &quot;blue&quot;, &quot;fillOpacity&quot;: 0.2, &quot;fillRule&quot;: &quot;evenodd&quot;, &quot;lineCap&quot;: &quot;round&quot;, &quot;lineJoin&quot;: &quot;round&quot;, &quot;noClip&quot;: false, &quot;opacity&quot;: 1.0, &quot;smoothFactor&quot;: 1.0, &quot;stroke&quot;: true, &quot;weight&quot;: 3}\n",
       "            ).addTo(map_aa2006a6422663d757296440e496b2e6);\n",
       "        \n",
       "&lt;/script&gt;\n",
       "&lt;/html&gt;\" style=\"position:absolute;width:100%;height:100%;left:0;top:0;border:none !important;\" allowfullscreen webkitallowfullscreen mozallowfullscreen></iframe></div></div>"
      ],
      "text/plain": [
       "<folium.folium.Map at 0x2f5a10b0d10>"
      ]
     },
     "execution_count": 8,
     "metadata": {},
     "output_type": "execute_result"
    }
   ],
   "source": [
    "m"
   ]
  },
  {
   "cell_type": "code",
   "execution_count": 7,
   "metadata": {},
   "outputs": [],
   "source": [
    "geolocator = Nominatim(user_agent=\"geoapiExercises\")"
   ]
  },
  {
   "cell_type": "code",
   "execution_count": null,
   "metadata": {},
   "outputs": [],
   "source": [
    "#print(distance.distance(location1, location2).km, \" kms\")\n",
    "route_distance, start, end = 0, 0, 1\n",
    "cnt = 1\n",
    "for x in A_list:\n",
    "    print(f\"{cnt}: {x}\")\n",
    "    cnt += 1"
   ]
  },
  {
   "cell_type": "code",
   "execution_count": null,
   "metadata": {},
   "outputs": [],
   "source": [
    "while end < len(A_list):\n",
    "    route_distance += distance.distance(A_list[start], A_list[end]).km\n",
    "    print(f\"{end}: {route_distance} kms\")\n",
    "    start += 1\n",
    "    end += 1\n",
    "    \n",
    "#print(route_distance,\"kms\")\n",
    "        "
   ]
  },
  {
   "cell_type": "code",
   "execution_count": 13,
   "metadata": {},
   "outputs": [
    {
     "name": "stdout",
     "output_type": "stream",
     "text": [
      "1.7308340410910013  kms\n"
     ]
    }
   ],
   "source": [
    "s = (18.0118757, -76.7968643)\n",
    "e = (18.0072864, -76.7812398)\n",
    "print(distance.distance(s, e).km, \" kms\")"
   ]
  },
  {
   "cell_type": "code",
   "execution_count": 14,
   "metadata": {},
   "outputs": [
    {
     "data": {
      "text/html": [
       "<div style=\"width:100%;\"><div style=\"position:relative;width:100%;height:0;padding-bottom:60%;\"><span style=\"color:#565656\">Make this Notebook Trusted to load map: File -> Trust Notebook</span><iframe srcdoc=\"&lt;!DOCTYPE html&gt;\n",
       "&lt;html&gt;\n",
       "&lt;head&gt;\n",
       "    \n",
       "    &lt;meta http-equiv=&quot;content-type&quot; content=&quot;text/html; charset=UTF-8&quot; /&gt;\n",
       "    \n",
       "        &lt;script&gt;\n",
       "            L_NO_TOUCH = false;\n",
       "            L_DISABLE_3D = false;\n",
       "        &lt;/script&gt;\n",
       "    \n",
       "    &lt;style&gt;html, body {width: 100%;height: 100%;margin: 0;padding: 0;}&lt;/style&gt;\n",
       "    &lt;style&gt;#map {position:absolute;top:0;bottom:0;right:0;left:0;}&lt;/style&gt;\n",
       "    &lt;script src=&quot;https://cdn.jsdelivr.net/npm/leaflet@1.9.3/dist/leaflet.js&quot;&gt;&lt;/script&gt;\n",
       "    &lt;script src=&quot;https://code.jquery.com/jquery-3.7.1.min.js&quot;&gt;&lt;/script&gt;\n",
       "    &lt;script src=&quot;https://cdn.jsdelivr.net/npm/bootstrap@5.2.2/dist/js/bootstrap.bundle.min.js&quot;&gt;&lt;/script&gt;\n",
       "    &lt;script src=&quot;https://cdnjs.cloudflare.com/ajax/libs/Leaflet.awesome-markers/2.0.2/leaflet.awesome-markers.js&quot;&gt;&lt;/script&gt;\n",
       "    &lt;link rel=&quot;stylesheet&quot; href=&quot;https://cdn.jsdelivr.net/npm/leaflet@1.9.3/dist/leaflet.css&quot;/&gt;\n",
       "    &lt;link rel=&quot;stylesheet&quot; href=&quot;https://cdn.jsdelivr.net/npm/bootstrap@5.2.2/dist/css/bootstrap.min.css&quot;/&gt;\n",
       "    &lt;link rel=&quot;stylesheet&quot; href=&quot;https://netdna.bootstrapcdn.com/bootstrap/3.0.0/css/bootstrap-glyphicons.css&quot;/&gt;\n",
       "    &lt;link rel=&quot;stylesheet&quot; href=&quot;https://cdn.jsdelivr.net/npm/@fortawesome/fontawesome-free@6.2.0/css/all.min.css&quot;/&gt;\n",
       "    &lt;link rel=&quot;stylesheet&quot; href=&quot;https://cdnjs.cloudflare.com/ajax/libs/Leaflet.awesome-markers/2.0.2/leaflet.awesome-markers.css&quot;/&gt;\n",
       "    &lt;link rel=&quot;stylesheet&quot; href=&quot;https://cdn.jsdelivr.net/gh/python-visualization/folium/folium/templates/leaflet.awesome.rotate.min.css&quot;/&gt;\n",
       "    \n",
       "            &lt;meta name=&quot;viewport&quot; content=&quot;width=device-width,\n",
       "                initial-scale=1.0, maximum-scale=1.0, user-scalable=no&quot; /&gt;\n",
       "            &lt;style&gt;\n",
       "                #map_cecd5efbe6e96ebaa1f2b6ed6775a208 {\n",
       "                    position: relative;\n",
       "                    width: 100.0%;\n",
       "                    height: 100.0%;\n",
       "                    left: 0.0%;\n",
       "                    top: 0.0%;\n",
       "                }\n",
       "                .leaflet-container { font-size: 1rem; }\n",
       "            &lt;/style&gt;\n",
       "        \n",
       "&lt;/head&gt;\n",
       "&lt;body&gt;\n",
       "    \n",
       "    \n",
       "            &lt;div class=&quot;folium-map&quot; id=&quot;map_cecd5efbe6e96ebaa1f2b6ed6775a208&quot; &gt;&lt;/div&gt;\n",
       "        \n",
       "&lt;/body&gt;\n",
       "&lt;script&gt;\n",
       "    \n",
       "    \n",
       "            var map_cecd5efbe6e96ebaa1f2b6ed6775a208 = L.map(\n",
       "                &quot;map_cecd5efbe6e96ebaa1f2b6ed6775a208&quot;,\n",
       "                {\n",
       "                    center: [18.0118757, -76.7968643],\n",
       "                    crs: L.CRS.EPSG3857,\n",
       "                    zoom: 16,\n",
       "                    zoomControl: true,\n",
       "                    preferCanvas: false,\n",
       "                }\n",
       "            );\n",
       "\n",
       "            \n",
       "\n",
       "        \n",
       "    \n",
       "            var tile_layer_81d5336e087207606a50b50c8c877a51 = L.tileLayer(\n",
       "                &quot;https://tile.openstreetmap.org/{z}/{x}/{y}.png&quot;,\n",
       "                {&quot;attribution&quot;: &quot;\\u0026copy; \\u003ca href=\\&quot;https://www.openstreetmap.org/copyright\\&quot;\\u003eOpenStreetMap\\u003c/a\\u003e contributors&quot;, &quot;detectRetina&quot;: false, &quot;maxNativeZoom&quot;: 19, &quot;maxZoom&quot;: 19, &quot;minZoom&quot;: 0, &quot;noWrap&quot;: false, &quot;opacity&quot;: 1, &quot;subdomains&quot;: &quot;abc&quot;, &quot;tms&quot;: false}\n",
       "            );\n",
       "        \n",
       "    \n",
       "            tile_layer_81d5336e087207606a50b50c8c877a51.addTo(map_cecd5efbe6e96ebaa1f2b6ed6775a208);\n",
       "        \n",
       "    \n",
       "            var poly_line_ad878775a4905f07d163b546a73486f5 = L.polyline(\n",
       "                [[18.0118757, -76.7968643], [18.011877, -76.796858], [18.011164, -76.79674], [18.010999, -76.796697], [18.011139, -76.796194], [18.011197, -76.796033], [18.011383, -76.7956], [18.011621, -76.795018], [18.011639, -76.794968], [18.011825, -76.794418], [18.011999, -76.79386], [18.012404, -76.792816], [18.012902, -76.791672], [18.013198, -76.791069], [18.012514, -76.790775], [18.011941, -76.790359], [18.011916, -76.790335], [18.011779, -76.7902], [18.011685, -76.790023], [18.011547, -76.789819], [18.011334, -76.789378], [18.011285, -76.789274], [18.011195, -76.789072], [18.010801, -76.788153], [18.010492, -76.787431], [18.010272, -76.786879], [18.010169, -76.78666], [18.009479, -76.785368], [18.00945, -76.785312], [18.009008, -76.784394], [18.008812, -76.783866], [18.00879, -76.783789], [18.008371, -76.78253], [18.008078, -76.78168], [18.007943, -76.781315], [18.007935, -76.78129], [18.007831, -76.781321], [18.007662, -76.78138], [18.007414, -76.78151], [18.0072864, -76.7812398]],\n",
       "                {&quot;bubblingMouseEvents&quot;: true, &quot;color&quot;: &quot;blue&quot;, &quot;dashArray&quot;: null, &quot;dashOffset&quot;: null, &quot;fill&quot;: false, &quot;fillColor&quot;: &quot;blue&quot;, &quot;fillOpacity&quot;: 0.2, &quot;fillRule&quot;: &quot;evenodd&quot;, &quot;lineCap&quot;: &quot;round&quot;, &quot;lineJoin&quot;: &quot;round&quot;, &quot;noClip&quot;: false, &quot;opacity&quot;: 1.0, &quot;smoothFactor&quot;: 1.0, &quot;stroke&quot;: true, &quot;weight&quot;: 3}\n",
       "            ).addTo(map_cecd5efbe6e96ebaa1f2b6ed6775a208);\n",
       "        \n",
       "    \n",
       "            tile_layer_81d5336e087207606a50b50c8c877a51.addTo(map_cecd5efbe6e96ebaa1f2b6ed6775a208);\n",
       "        \n",
       "&lt;/script&gt;\n",
       "&lt;/html&gt;\" style=\"position:absolute;width:100%;height:100%;left:0;top:0;border:none !important;\" allowfullscreen webkitallowfullscreen mozallowfullscreen></iframe></div></div>"
      ],
      "text/plain": [
       "<folium.folium.Map at 0x1882ab75d50>"
      ]
     },
     "execution_count": 14,
     "metadata": {},
     "output_type": "execute_result"
    }
   ],
   "source": [
    "m"
   ]
  }
 ],
 "metadata": {
  "kernelspec": {
   "display_name": "Python 3",
   "language": "python",
   "name": "python3"
  },
  "language_info": {
   "codemirror_mode": {
    "name": "ipython",
    "version": 3
   },
   "file_extension": ".py",
   "mimetype": "text/x-python",
   "name": "python",
   "nbconvert_exporter": "python",
   "pygments_lexer": "ipython3",
   "version": "3.11.2"
  }
 },
 "nbformat": 4,
 "nbformat_minor": 2
}
