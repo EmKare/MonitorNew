{
 "cells": [
  {
   "cell_type": "code",
   "execution_count": 1,
   "metadata": {},
   "outputs": [],
   "source": [
    "import openrouteservice as ors"
   ]
  },
  {
   "cell_type": "code",
   "execution_count": 2,
   "metadata": {},
   "outputs": [],
   "source": [
    "import folium as fl"
   ]
  },
  {
   "cell_type": "code",
   "execution_count": 9,
   "metadata": {},
   "outputs": [],
   "source": [
    "client = ors.Client(key='5b3ce3597851110001cf62480f6929fa14f1415b865522ca5d94fb50')\n",
    "\n",
    "# use self-hosted\n",
    "# client = ors.Client(base_url='localhost:8080/ors')"
   ]
  },
  {
   "cell_type": "code",
   "execution_count": null,
   "metadata": {},
   "outputs": [],
   "source": [
    "m = fl.Map(location=list(reversed([-76.7968643, 18.0118757])), tiles=\"cartodbpositron\", zoom_start=13)\n",
    "m"
   ]
  },
  {
   "cell_type": "code",
   "execution_count": null,
   "metadata": {},
   "outputs": [],
   "source": [
    "#import operator\n",
    "#from functools import reduce\n",
    "\n",
    "m = fl.Map(location=list(reversed([-76.7968643, 18.0118757])),  zoom_start=16) #tiles=\"cartodbpositron\",\n",
    "\n",
    "# white house to the pentagon\n",
    "coords = [[-76.7968643, 18.0118757], [-76.7812398, 18.0072864]]\n",
    "\n",
    "route = client.directions(coordinates=coords,\n",
    "                          profile='driving-car',\n",
    "                          format='geojson',                          \n",
    "                          )\n",
    "\n",
    "#waypoints = list(dict.fromkeys(reduce(operator.concat, list(map(lambda step: step['way_points'], route['features'][0]['properties']['segments'][0]['steps'])))))\n",
    "route_list = [list(reversed(coord)) for coord in route['features'][0]['geometry']['coordinates']]\n",
    "#for x in route_list:\n",
    "#    print(f\"[{x[0]},{x[1]}],\")\n",
    "print(len(route_list))\n",
    "fl.PolyLine(locations=route_list, color=\"blue\").add_to(m)\n",
    "\n",
    "#fl.PolyLine(locations=[list(reversed(route['features'][0]['geometry']['coordinates'][index])) for index in waypoints], color=\"red\").add_to(m)\n",
    "\n",
    "m"
   ]
  }
 ],
 "metadata": {
  "kernelspec": {
   "display_name": "Python 3",
   "language": "python",
   "name": "python3"
  },
  "language_info": {
   "codemirror_mode": {
    "name": "ipython",
    "version": 3
   },
   "file_extension": ".py",
   "mimetype": "text/x-python",
   "name": "python",
   "nbconvert_exporter": "python",
   "pygments_lexer": "ipython3",
   "version": "3.11.2"
  }
 },
 "nbformat": 4,
 "nbformat_minor": 2
}
